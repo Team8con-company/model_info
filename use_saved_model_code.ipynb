{
 "cells": [
  {
   "cell_type": "code",
   "execution_count": 4,
   "id": "c79d14ae",
   "metadata": {},
   "outputs": [
    {
     "name": "stdout",
     "output_type": "stream",
     "text": [
      "뉴스: 삼성전자의 실적이 예상을 뛰어넘어 주가가 상승했습니다.\n",
      "감성: positive\n",
      "신뢰도: 1.00\n"
     ]
    }
   ],
   "source": [
    "import pandas as pd\n",
    "from sklearn.model_selection import train_test_split\n",
    "from sklearn.metrics import classification_report\n",
    "from transformers import BertTokenizer, BertForSequenceClassification, Trainer, TrainingArguments\n",
    "import torch\n",
    "import numpy as np\n",
    "\n",
    "from transformers import BertTokenizer,BertForSequenceClassification\n",
    "\n",
    "model_path = \"./saved_model\"\n",
    "loaded_model = BertForSequenceClassification.from_pretrained(model_path)\n",
    "loaded_tokenizer = BertTokenizer.from_pretrained(model_path)\n",
    "\n",
    "device = torch.device(\"cuda\" if torch.cuda.is_available() else \"cpu\")\n",
    "loaded_model.to(device)\n",
    "\n",
    "def analyze_sentiment(news_text, model, tokenizer):\n",
    "    device = torch.device(\"cuda\" if torch.cuda.is_available() else \"cpu\")\n",
    "    model.to(device)\n",
    "\n",
    "    inputs = tokenizer(news_text, return_tensors=\"pt\", truncation=True, padding=True, max_length=512)\n",
    "    inputs = {k: v.to(device) for k, v in inputs.items()}\n",
    "\n",
    "    with torch.no_grad():\n",
    "        outputs = model(**inputs)\n",
    "\n",
    "    probs = torch.nn.functional.softmax(outputs.logits, dim=-1)\n",
    "    pred = torch.argmax(probs, dim=-1).item()\n",
    "    sentiment = ['negative', 'neutral', 'positive'][pred]\n",
    "    confidence = probs[0][pred].item()\n",
    "    return sentiment, confidence\n",
    "\n",
    "news = \"삼성전자의 실적이 예상을 뛰어넘어 주가가 상승했습니다.\"\n",
    "sentiment, confidence = analyze_sentiment(news, loaded_model, loaded_tokenizer)\n",
    "print(f\"뉴스: {news}\")\n",
    "print(f\"감성: {sentiment}\")\n",
    "print(f\"신뢰도: {confidence:.2f}\")"
   ]
  },
  {
   "cell_type": "code",
   "execution_count": 60,
   "id": "d8bcca32",
   "metadata": {
    "scrolled": true
   },
   "outputs": [
    {
     "name": "stdout",
     "output_type": "stream",
     "text": [
      "뉴스: 여기에 뉴스기사 제목을 넣어주시면 됩니다.\n",
      "감성: neutral\n",
      "신뢰도: 1.00\n"
     ]
    }
   ],
   "source": [
    "news = \"여기에 뉴스기사 제목을 넣어주시면 됩니다.\"\n",
    "sentiment, confidence = analyze_sentiment(news, loaded_model, loaded_tokenizer)\n",
    "print(f\"뉴스: {news}\")\n",
    "print(f\"감성: {sentiment}\")\n",
    "print(f\"신뢰도: {confidence:.2f}\")"
   ]
  },
  {
   "cell_type": "code",
   "execution_count": null,
   "id": "1d3924f0",
   "metadata": {},
   "outputs": [],
   "source": []
  }
 ],
 "metadata": {
  "kernelspec": {
   "display_name": "Python 3 (ipykernel)",
   "language": "python",
   "name": "python3"
  },
  "language_info": {
   "codemirror_mode": {
    "name": "ipython",
    "version": 3
   },
   "file_extension": ".py",
   "mimetype": "text/x-python",
   "name": "python",
   "nbconvert_exporter": "python",
   "pygments_lexer": "ipython3",
   "version": "3.9.12"
  }
 },
 "nbformat": 4,
 "nbformat_minor": 5
}
